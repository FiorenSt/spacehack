{
 "cells": [
  {
   "cell_type": "code",
   "execution_count": 1,
   "metadata": {},
   "outputs": [],
   "source": [
    "# Copyright 2024 Google LLC\n",
    "#\n",
    "# Licensed under the Apache License, Version 2.0 (the \"License\");\n",
    "# you may not use this file except in compliance with the License.\n",
    "# You may obtain a copy of the License at\n",
    "#\n",
    "#     https://www.apache.org/licenses/LICENSE-2.0\n",
    "#\n",
    "# Unless required by applicable law or agreed to in writing, software\n",
    "# distributed under the License is distributed on an \"AS IS\" BASIS,\n",
    "# WITHOUT WARRANTIES OR CONDITIONS OF ANY KIND, either express or implied.\n",
    "# See the License for the specific language governing permissions and\n",
    "# limitations under the License."
   ]
  },
  {
   "cell_type": "markdown",
   "metadata": {},
   "source": [
    "LLM Classification Transients\n",
    "==============\n",
    "\n",
    "<table align=\"left\">\n",
    "  <td style=\"text-align: center\">\n",
    "    <a href=\"https://colab.research.google.com/github/turanbulmus/spacehack/blob/main/01 - LLM Classification Transients.ipynb\">\n",
    "      <img src=\"https://cloud.google.com/ml-engine/images/colab-logo-32px.png\" alt=\"Google Colaboratory logo\"><br> Open in Colab\n",
    "    </a>\n",
    "  </td>\n",
    "  <td style=\"text-align: center\">\n",
    "    <a href=\"https://console.cloud.google.com/vertex-ai/colab/import/https:%2F%2Fraw.githubusercontent.com%2Fturanbulmus%2Fspacehack%2Fmain%2F01%20-%20LLM%20Classification%20Transients.ipynb\">\n",
    "      <img width=\"32px\" src=\"https://lh3.googleusercontent.com/JmcxdQi-qOpctIvWKgPtrzZdJJK-J3sWE1RsfjZNwshCFgE_9fULcNpuXYTilIR2hjwN\" alt=\"Google Cloud Colab Enterprise logo\"><br> Open in Colab Enterprise\n",
    "    </a>\n",
    "  </td>    \n",
    "  <td style=\"text-align: center\">\n",
    "    <a href=\"https://console.cloud.google.com/vertex-ai/workbench/deploy-notebook?download_url=https://raw.githubusercontent.com/turanbulmus/spacekhack/main/01%20-%20LLM%20Classification%20Transients.ipynb\">\n",
    "      <img src=\"https://lh3.googleusercontent.com/UiNooY4LUgW_oTvpsNhPpQzsstV5W8F7rYgxgGBD85cWJoLmrOzhVs_ksK_vgx40SHs7jCqkTkCk=e14-rj-sc0xffffff-h130-w32\" alt=\"Vertex AI logo\"><br> Open in Workbench\n",
    "    </a>\n",
    "  </td>\n",
    "  <td style=\"text-align: center\">\n",
    "    <a href=\"https://github.com/turanbulmus/spacehack/blob/main/01%20-%20LLM%20Classification%20Transients.ipynb\">\n",
    "      <img src=\"https://cloud.google.com/ml-engine/images/github-logo-32px.png\" alt=\"GitHub logo\"><br> View on GitHub\n",
    "    </a>\n",
    "  </td>\n",
    "</table>"
   ]
  },
  {
   "cell_type": "markdown",
   "metadata": {},
   "source": [
    "| | |\n",
    "|----------|-------------|\n",
    "| Authors   | Turan Bulmus,  Fiorenzo Stoppa|\n",
    "| Last updated | 2025 03 20: Final Publication |\n",
    "\n"
   ]
  },
  {
   "cell_type": "markdown",
   "metadata": {},
   "source": [
    "# Overview\n",
    "\n",
    "This notebook showcases the potential of multimodal models like Gemini 1.5 Pro for tackling few-shot object classification problems. We'll explore how this advanced model can analyze telescope images, compare them against reference and difference images, and classify them as \"real\" or \"bogus\" solely based on visual information and human-provided instructions. By the end of this notebook, you'll gain insights into:\n",
    "\n",
    "* How Gemini 1.5 Pro can perform few-shot classification tasks without explicit training.\n",
    "* How Gemini 1.5 Pro not only classifies images but also provides human readable explanations for the classifications.\n",
    "* The power of multimodal models to understand and reason about visual content.\n",
    "* Building effective prompts for complex image analysis tasks.\n",
    "\n",
    "TODO: Add link to the paper\n",
    "\n",
    "This notebook demonstrates these with the following steps:\n",
    "\n",
    "1. **Import Libraries and Build Functions:** We start by importing the necessary libraries for image loading, processing, and evaluation. We also define functions to facilitate the analysis and visualization of results.\n",
    "2. **Build System Instructions for the Prompt:** A well-crafted prompt is crucial for guiding Gemini 1.5 Pro towards the desired output. We carefully define instructions outlining the task, the type of images, and the desired classification outcome.\n",
    "3. **Load the Dataset:** We load a collection of telescope images, including reference, difference, and new images, to be used for the classification task.\n",
    "4. **Run Gemini 1.5 Pro with the Prompt:** We execute the prompt with Gemini 1.5 Pro, iterating over 3000+ samples from the dataset to get classifications for each image.\n",
    "5. **Evaluate Model Performance:** We evaluate the model's performance using metrics like a confusion matrix, precision, recall, and accuracy. These metrics provide insights into the model's ability to correctly classify \"real\" and \"bogus\" images. Finally, we visualize the results for better understanding.\n"
   ]
  },
  {
   "cell_type": "markdown",
   "metadata": {},
   "source": [
    "## Using This Notebook\n",
    "\n",
    "Colab is recommended for running this notebook, but it can run in any iPython environment where you can connect to Google Cloud, install pip packages, etc.\n",
    "\n",
    "If you're running outside of Colab, depending on your environment you may need to install pip packages (at the very least `pandas` and `tabulate`) that are included in the Colab environment by default but are not part of the Python Standard Library--try pipping the library name of any imports that fail. You'll also notice some comments in code cells that look like \"@something\"; these have special rendering in colab, but you aren't missing out on any content or important functionality.\n",
    "\n",
    "This notebook uses the following Google Cloud services and resources:\n",
    "\n",
    "* [Vertex AI Gemini Models](https://cloud.google.com/vertex-ai/generative-ai/docs/learn/models)\n",
    "* [Vertex AI Experiments](https://cloud.google.com/vertex-ai/docs/experiments/intro-vertex-ai-experiments)\n",
    "* [Google Cloud BigQuery](https://cloud.google.com/bigquery/docs/introduction)\n",
    "\n",
    "This notebook has been tested in the following environment:\n",
    "\n",
    "* Python version = 3.12.3\n",
    "* [google-cloud-aiplatform](https://pypi.org/project/google-cloud-aiplatform/) version = 1.70.0"
   ]
  },
  {
   "cell_type": "markdown",
   "metadata": {},
   "source": [
    "## Useful Tips\n",
    "\n",
    "1. This notebook uses Generative AI cababilities. Re-running a cell that uses Generative AI capabilities may produce similar but not identical results.\n",
    "\n",
    "TODO: Add tips regarding: Quotas, possible errors (429 etc..)"
   ]
  },
  {
   "cell_type": "markdown",
   "metadata": {},
   "source": [
    "# 0. Getting Started"
   ]
  },
  {
   "cell_type": "markdown",
   "metadata": {},
   "source": [
    "## Install required packages and restart runtime \n",
    "Install the required packages for code to run. These packages are included in the requirements.txt file.\n",
    "\n",
    "To use the newly installed packages in this Jupyter runtime, you must restart the runtime. You can do this by running the cell below, which restarts the current kernel.\n",
    "\n",
    "The restart might take a minute or longer. After it's restarted, continue to the next step.\n",
    "\n",
    "The code assumes that the packages are already installed hence the following code is commented out. If you are running this notebook for the first time, please uncomment the next block and run the code"
   ]
  },
  {
   "cell_type": "code",
   "execution_count": 2,
   "metadata": {},
   "outputs": [],
   "source": [
    "# ! pip install -r requirements.txt --quiet\n",
    "\n",
    "# import IPython\n",
    "\n",
    "# app = IPython.Application.instance()\n",
    "# app.kernel.do_shutdown(True)"
   ]
  },
  {
   "cell_type": "markdown",
   "metadata": {},
   "source": [
    "<div class=\"alert alert-block alert-warning\">\n",
    "<b>⚠️ The kernel is going to restart. Please wait until it is finished before continuing to the next step. ⚠️</b>\n",
    "</div>"
   ]
  },
  {
   "cell_type": "markdown",
   "metadata": {},
   "source": [
    "## Authenticate your notebook environment\n",
    "\n",
    "If you're using Colab, run the code in the next cell. Follow the popups and authenticate with an account that has access to your Google Cloud [project](https://cloud.google.com/resource-manager/docs/creating-managing-projects#identifying_projects).\n",
    "\n",
    "If you're running this notebook somewhere besides Colab, make sure your environment has the right Google Cloud access. If that's a new concept to you, consider looking into [Application Default Credentials for your local environment](https://cloud.google.com/docs/authentication/provide-credentials-adc#local-dev) and [initializing the Google Cloud CLI](https://cloud.google.com/docs/authentication/gcloud). In many cases, running `gcloud auth application-default login` in a shell on the machine running the notebook kernel is sufficient.\n",
    "\n",
    "More authentication options are discussed [here](https://cloud.google.com/docs/authentication)."
   ]
  },
  {
   "cell_type": "code",
   "execution_count": 3,
   "metadata": {},
   "outputs": [],
   "source": [
    "# Colab authentication\n",
    "import sys\n",
    "\n",
    "if \"google.colab\" in sys.modules:\n",
    "    from google.colab import auth\n",
    "\n",
    "    auth.authenticate_user()\n",
    "    print('Authenticated')"
   ]
  },
  {
   "cell_type": "markdown",
   "metadata": {},
   "source": [
    "## Set Google Cloud environment variables information and initialize Clients\n",
    "\n",
    "Learn more about [setting up a project and a development environment](https://cloud.google.com/vertex-ai/docs/start/cloud-environment).\n",
    "To get started using Vertex AI, you must have an existing Google Cloud project and the following:\n",
    "* [Enable the Vertex AI API](https://console.cloud.google.com/flows/enableapi?apiid=aiplatform.googleapis.com). \n",
    "* [Enable the Big Query API](https://console.cloud.google.com/flows/enableapi?apiid=bigquery.googleapis.com)."
   ]
  },
  {
   "cell_type": "markdown",
   "metadata": {},
   "source": [
    "The following variables will be used throughout the code below. Please find the meaning of each variable in the documentation below:\n",
    "\n",
    "* [PROJECT_ID](https://cloud.google.com/resource-manager/docs/creating-managing-projects): The ID of the GCP project which will host the \n",
    "* [LOCATION](https://cloud.google.com/about/locations): The location where the computational resources will be run. Please also check the availability of Gemini models in the associated regions from [here](https://cloud.google.com/vertex-ai/generative-ai/docs/learn/locations).\n",
    "* [EXPERIMENT_NAME](https://cloud.google.com/vertex-ai/docs/experiments/create-manage-exp-run): The name of the Vertex AI experiment. This will ensure tracebility of the experiement in the Vertex AI Environment\n",
    "* [DATASET_ID](https://cloud.google.com/bigquery/docs/datasets-intro): The code will run a batch process for various LLM calls. The results and the input of these runs will be stored at a BigQuery table. The instructions to create a dataset can be found [here](https://cloud.google.com/bigquery/docs/datasets)."
   ]
  },
  {
   "cell_type": "code",
   "execution_count": 4,
   "metadata": {},
   "outputs": [
    {
     "data": {
      "text/html": [
       "\n",
       "        \n",
       "    <link rel=\"stylesheet\" href=\"https://fonts.googleapis.com/icon?family=Material+Icons\">\n",
       "    <style>\n",
       "      .view-vertex-resource,\n",
       "      .view-vertex-resource:hover,\n",
       "      .view-vertex-resource:visited {\n",
       "        position: relative;\n",
       "        display: inline-flex;\n",
       "        flex-direction: row;\n",
       "        height: 32px;\n",
       "        padding: 0 12px;\n",
       "          margin: 4px 18px;\n",
       "        gap: 4px;\n",
       "        border-radius: 4px;\n",
       "\n",
       "        align-items: center;\n",
       "        justify-content: center;\n",
       "        background-color: rgb(255, 255, 255);\n",
       "        color: rgb(51, 103, 214);\n",
       "\n",
       "        font-family: Roboto,\"Helvetica Neue\",sans-serif;\n",
       "        font-size: 13px;\n",
       "        font-weight: 500;\n",
       "        text-transform: uppercase;\n",
       "        text-decoration: none !important;\n",
       "\n",
       "        transition: box-shadow 280ms cubic-bezier(0.4, 0, 0.2, 1) 0s;\n",
       "        box-shadow: 0px 3px 1px -2px rgba(0,0,0,0.2), 0px 2px 2px 0px rgba(0,0,0,0.14), 0px 1px 5px 0px rgba(0,0,0,0.12);\n",
       "      }\n",
       "      .view-vertex-resource:active {\n",
       "        box-shadow: 0px 5px 5px -3px rgba(0,0,0,0.2),0px 8px 10px 1px rgba(0,0,0,0.14),0px 3px 14px 2px rgba(0,0,0,0.12);\n",
       "      }\n",
       "      .view-vertex-resource:active .view-vertex-ripple::before {\n",
       "        position: absolute;\n",
       "        top: 0;\n",
       "        bottom: 0;\n",
       "        left: 0;\n",
       "        right: 0;\n",
       "        border-radius: 4px;\n",
       "        pointer-events: none;\n",
       "\n",
       "        content: '';\n",
       "        background-color: rgb(51, 103, 214);\n",
       "        opacity: 0.12;\n",
       "      }\n",
       "      .view-vertex-icon {\n",
       "        font-size: 18px;\n",
       "      }\n",
       "    </style>\n",
       "  \n",
       "        <a class=\"view-vertex-resource\" id=\"view-vertex-resource-67e6515e-b143-4f35-a7db-0d230d781986\" href=\"#view-view-vertex-resource-67e6515e-b143-4f35-a7db-0d230d781986\">\n",
       "          <span class=\"material-icons view-vertex-icon\">science</span>\n",
       "          <span>View Experiment</span>\n",
       "        </a>\n",
       "        \n",
       "        <script>\n",
       "          (function () {\n",
       "            const link = document.getElementById('view-vertex-resource-67e6515e-b143-4f35-a7db-0d230d781986');\n",
       "            link.addEventListener('click', (e) => {\n",
       "              if (window.google?.colab?.openUrl) {\n",
       "                window.google.colab.openUrl('https://console.cloud.google.com/vertex-ai/experiments/locations/us-central1/experiments/supernovadetection/runs?project=turan-genai-bb');\n",
       "              } else {\n",
       "                window.open('https://console.cloud.google.com/vertex-ai/experiments/locations/us-central1/experiments/supernovadetection/runs?project=turan-genai-bb', '_blank');\n",
       "              }\n",
       "              e.stopPropagation();\n",
       "              e.preventDefault();\n",
       "            });\n",
       "          })();\n",
       "        </script>\n",
       "    "
      ],
      "text/plain": [
       "<IPython.core.display.HTML object>"
      ]
     },
     "metadata": {},
     "output_type": "display_data"
    }
   ],
   "source": [
    "PROJECT_ID = \"<YOUR_PROJECT_ID>\"  # @param {type:\"string\"}\n",
    "LOCATION = \"us-central1\"  # @param {type:\"string\"}\n",
    "EXPERIMENT_NAME = \"supernovadetection\" # @param {type:\"string\"}\n",
    "# Make sure that dataset is created in Big Query\n",
    "DATASET_ID = \"spacehack\" # @param {type:\"string\"}\n",
    "\n",
    "import vertexai\n",
    "from google.cloud import bigquery\n",
    "\n",
    "# Initiate Vertex AI and BigQuery clients\n",
    "vertexai.init(project=PROJECT_ID, location=LOCATION, experiment=EXPERIMENT_NAME)\n",
    "bq_client = bigquery.Client(project=PROJECT_ID)"
   ]
  },
  {
   "cell_type": "markdown",
   "metadata": {},
   "source": [
    "## Import libraries and define helper functions"
   ]
  },
  {
   "cell_type": "markdown",
   "metadata": {},
   "source": [
    "Import the necessary libraries that will be used throughout the code. Please note that the last import (i.e. helper_functions) is coming originated from the source code in the repository."
   ]
  },
  {
   "cell_type": "code",
   "execution_count": 5,
   "metadata": {},
   "outputs": [],
   "source": [
    "import gdown \n",
    "import os, datetime\n",
    "\n",
    "import pandas as pd\n",
    "import numpy as np\n",
    "from matplotlib import pyplot as plt\n",
    "from sklearn.metrics import confusion_matrix, ConfusionMatrixDisplay\n",
    "\n",
    "from google.cloud import bigquery\n",
    "import google.cloud.aiplatform as aiplatform\n",
    "\n",
    "from helper_functions import build_run_batch, if_tbl_exists, create_ex, save_picture, save_prompt, build_experiment_vars"
   ]
  },
  {
   "cell_type": "markdown",
   "metadata": {},
   "source": [
    "# 1. Build System Instructions and The Prompt"
   ]
  },
  {
   "cell_type": "markdown",
   "metadata": {},
   "source": [
    "## Build the System Instructions\n",
    "System instructions for an LLM (Large Language Model) are a set of instructions given at the very beginning of a conversation (or as a persistent setting) that tell the model how to behave, what role to assume, and what constraints to operate under.\n",
    "\n",
    "Think of it as the LLM's \"mission statement\" for the entire interaction. They can:\n",
    "\n",
    "* Define the LLM's persona: \"You are a helpful and friendly chatbot.\"\n",
    "* Set response style: \"Answer concisely and use bullet points.\"\n",
    "* Specify the task: \"You are an expert in data science and will help users with their coding problems.\"\n",
    "* Impose limitations: \"Do not provide medical advice.\"\n",
    "* Provide context: \"The user is a beginner in Python programming.\"\n",
    "\n",
    "Since one can not include images to system instructions (yet) below will only consist of text portion of the system instructions. \n",
    "For this project we are introducing four main parts to the System instructions:\n",
    "\n",
    "1) Persona: Highlighting the persona of the model. Eg. \"You are an experienced astrophysicist...\"\n",
    "2) Instructions: This is set of instructions that are also used as guidelines for human classifiers.\n",
    "3) Task: Explaining the task that the LLM model needs to conduct.\n",
    "4) Method: Fine grained instructions on how to conduct the task outlined above."
   ]
  },
  {
   "cell_type": "code",
   "execution_count": 6,
   "metadata": {},
   "outputs": [],
   "source": [
    "PERSONA = \"\"\"<PERSONA>\n",
    "You are an experienced astrophysicist, and your task is to classify astronomical transients into Real or Bogus based on a given set of 3 images. You have seen thousands of astronomical images during your lifetime and you are very good at making this classification by looking at the images and following the instructions. \n",
    "</PERSONA>\"\"\"\n",
    "\n",
    "\n",
    "INSTRUCTIONS = \"\"\"\\n<INSTRUCTIONS>\n",
    "**1. Purpose**\n",
    "This guide is designed to help vet astronomical data for the Real/Bogus classification. The goal is for you to learn how to distinguish between real and bogus sources. You are conducting this exercise for the second round and you will be analyzing only the ones you made an error in the first round so be careful with your analysis. \n",
    "\n",
    "**2. Information Provided**\n",
    "You will be shown three astronomical image cutouts:\n",
    "a) **New Image:** The newest fully reduced science image centred at the location of the suspected transient source. \n",
    "b) **Reference Image:** A reference image from the same telescope of the same part of the sky to be used for comparison. It shows if the source was already there in the past or not.\n",
    "c) **Difference Image:** The residual image after the new and reference images are subtracted (sky-subtracted and scaled/convolved to match PSFs). Real sources should appear in this cutout as circular objects with positive (white) or negative (black) flux. Imperfect astrometric regridding can cause ‘yin-yang’ patterns of positive and negative flux at the same time. If the source of interest at the centre of the cutout presents this feature, it is to be considered as Bogus.,\n",
    "\n",
    "**3. Real and Bogus Sources**\n",
    "To classify the sources, you need to understand what constitutes a real or bogus source: \n",
    "\n",
    "**Real Source** \n",
    "A real source is any source of astrophysical origin that is variable in time. Characteristics of a real source include:\n",
    "a) **Shape:** The source at the centre of the cutout has circular shape and a visual extent of ~5-10 pixels, varying with focus conditions.\n",
    "b) **Brightness:** The source at the centre is positive (white) in either the new or reference image.\n",
    "c) **Variability:** The source at the centre can fade or brighten between the new and reference image, appearing as positive or negative in the Difference image. \n",
    "d) **Presence:** The source may (dis)appear between the new and reference image. It can happen that there is no source in one image and a clear point-source in the other. It can also occur that a source appears on top of an underlying galaxy (e.g. SN). \n",
    "\n",
    "**Bogus Source** \n",
    "A bogus source is any source not of astrophysical origin, such as detector artefacts, cosmic rays, reflections, data processing errors, cross-talk, or diffraction spikes. \n",
    "Characteristics of a bogus source include: \n",
    "a) **Shape:** The source at the centre is not circular (e.g., elongated) with a size <5 pixels or >10 pixels. A single bright pixel is not a point-source (likely a cosmic-ray). This also includes irregular shapes like streaks or lines caused by cross-talk or diffraction spikes. \n",
    "b) **Brightness:** The source at the centre of the cutout is negative (dark) in either the new or reference image. The source at the centre of the cutouts can never be negative in the new or reference image.\n",
    "c) **Artifacts:** The source at the centre is simply a detector artifact such as reflections, cross-talk, and dead pixels. Diffraction spikes from nearby bright stars or other optical effects can also create potential Bogus sources.\n",
    "d) **Misalignment** If the source in the New and Reference images is misaligned, it will show a Yin-Yang pattern in the Difference image; this is bogus.\n",
    " \n",
    "**4. Additional Guidance** \n",
    "a) **Contextual Information:** The classification in Real or Bogus is for the source at the centre of the cutouts, but keep in mind that sources nearby can help diagnose problems in the Difference image.  \n",
    "b) **Examples:** Refer to provided visual examples of real and bogus sources to aid in identification. \n",
    "c) **Judgment Criteria:** For ambiguous cases or borderline scenarios, consider the overall context and consistency with known characteristics of real and bogus sources. \n",
    "</INSTRUCTIONS> \"\"\"\n",
    "\n",
    "TASK = \"\"\"<TASK>\n",
    "Your task is to read the INSTRUCTIONS, look at the 3 images (New, Reference and Difference images) and classify if the source at the centre of the cutout and inside the red circle is a Real or Bogus astronomical transient. Provide your thought process to explain how you reasoned to provide the response. Respond in json format\n",
    "</TASK>\\n\n",
    "\"\"\"\n",
    "\n",
    "METHOD = \"\"\"<METHOD>\n",
    "- Do not simply provide a binary classification. Utilize your knowledge, the provided guide, and the image data to generate a comprehensive explanation for your classification.\n",
    "- Additionally, provide a follow-up interest_score: 'No interest' for bogus sources, 'Low interest' for variable transients, and 'High interest' for explosive transients.\n",
    "- Base your reasoning by only looking at what is in the red circle. The images are prepared specifically so that the questioned light source sits at the center of the image and the point of interest is encircled with a red circle.\n",
    "- Employ a chain-of-thought process, clearly outlining each step of your analysis.\n",
    "- Analyze each image individually and in relation to each other.\n",
    "- For each feature you examine (shape, flux, etc.), describe your observations and how they contribute to your classification.\n",
    "- If you observe features from the images described in the <INSTRUCTIONS> section, clearly identify them and relate them to your reasoning.\n",
    "- If any of your observations contradict a potential classification, acknowledge the discrepancy and justify your final decision.\n",
    "</METHOD>\n",
    "\"\"\"\n",
    "# Collapse the System Instructions into a single variable\n",
    "stat_prompt = PERSONA + INSTRUCTIONS + METHOD + TASK "
   ]
  },
  {
   "cell_type": "markdown",
   "metadata": {},
   "source": [
    "## Build the Prompt\n",
    "\n",
    "In this part, we will build the prompt (the dynamic) part of each LLM call for each of the sample in the dataset. The process for building these examples would be as follows:\n",
    "\n",
    "1) Download the raw image data (.npy files) and the labels (.csv) file associated with the images\n",
    "2) Upload the labels to BigQuery\n",
    "3) Seperate example set images (i.e. the few shot examples - 7 Real and 7 Bogus examples) that will be sent as a part of each LLM call. They will be stored under sample_indexes.\n",
    "4) Convert the raw .npy files to pictures so that they can be sent to Gemini and store them under the data folder.\n",
    "5) For each example in sample_indexes, define the expected output for class, explanation and interest_score.\n",
    "6) Store the dynamic part of the prompt under the variable EXAMPLES."
   ]
  },
  {
   "cell_type": "code",
   "execution_count": 7,
   "metadata": {},
   "outputs": [],
   "source": [
    "# Prompt examples Build\n",
    "file_path_data = 'data/new_data.npy'\n",
    "file_path_labels = 'data/new_labels.csv'\n",
    "# Load the .npy file containing the quadruplets of images\n",
    "if not os.path.exists('data'):\n",
    "    id = \"1EZZyK_E99H--7yrTumYnuogrpd8F-KOv\" #id from the Google Drive\n",
    "    os.makedirs('data')\n",
    "    gdown.download(id=id, output = file_path_data)\n",
    "    # Load the .npy file containing the labels\n",
    "    id =  \"11qLdAGY-_v8wC4IzE9CFOIywapSFWr7g\" #id from the Google Drive\n",
    "    gdown.download(id=id, output = file_path_labels)\n",
    "quadruplets = np.load(file_path_data)\n",
    "\n",
    "# Load the labels and store it in labels_df\n",
    "labels_df = pd.read_csv(file_path_labels, header=0)\n",
    "\n",
    "\n",
    "# Upload Labels to Big Query Check if the table exists\n",
    "labels_id = \"labels_df\"\n",
    "# Construct the table reference\n",
    "labels_ref = bq_client.dataset(DATASET_ID).table(labels_id)\n",
    "# Creates the if it doesnt exists.\n",
    "create_table_flag = if_tbl_exists(bq_client, labels_ref)\n",
    "# Upload labels_df to Big Query\n",
    "if create_table_flag != True:\n",
    "    bq_client.load_table_from_dataframe(labels_df,labels_ref)\n",
    "\n",
    "# Sample indexes you want to access and save them as files so that they are sent to Gemini as a part of examples\n",
    "sample_indexes = [0, 1, 3, 4, 8, 48, 77,  1179,  1180,  1181,  1191, 1193, 592, 685]\n",
    "batch_index = np.where(~np.isnan(quadruplets).any(axis=(1, 2, 3)))[0] # remove corrupt data\n",
    "\n",
    "if not os.path.exists('data/pics/prompt_pics'):\n",
    "    os.makedirs('data/pics/prompt_pics')\n",
    "\n",
    "    # For the dynamic part of the prompt generate and save the pictures in a folder and save the examples in the prompt_pics folder\n",
    "    for t in batch_index:\n",
    "        save_picture(quadruplets, t, t in sample_indexes)"
   ]
  },
  {
   "cell_type": "code",
   "execution_count": 8,
   "metadata": {},
   "outputs": [],
   "source": [
    "## DESCRIPTION INDEX 0:\n",
    "desc1 = {\n",
    "  \"class\": \"Bogus\",\n",
    "  \"explanation\": \"A diffraction spike is present in all three images. No circular source is found at the center of the New or Reference image; this is a bogus source.\",\n",
    "  \"interest_score\": \"No interest\"\n",
    "}\n",
    "\n",
    "## DESCRIPTION INDEX 1:\n",
    "desc2 = {\n",
    "  \"class\": \"Bogus\",\n",
    "  \"explanation\": \"The New image has a negative artefact at its center (not to be confused with the source slightly off-centre), so it is not a real source. A negative artefact in the New image can create a misleading negative source that could look like a real source that got dimmer, however remember that the source can never be negative in the New image.\",\n",
    "  \"interest_score\": \"No interest\"\n",
    "}\n",
    "\n",
    "## DESCRIPTION INDEX 3:\n",
    "desc3 = {\n",
    "  \"class\": \"Bogus\",\n",
    "  \"explanation\": \"In the New image the source is a streak of few really bright pixels and not circular. No source at the same location (center of the cutout)  in the Reference image. This is too sharp to be a real source and most likely a cosmic ray.\",\n",
    "  \"interest_score\": \"No interest\"\n",
    "}\n",
    "\n",
    "## DESCRIPTION INDEX 4:\n",
    "desc4 = {\n",
    "  \"class\": \"Bogus\",\n",
    "  \"explanation\": \"In the Reference image the source is a streak of few really bright pixels and not circular. No source at the same location (center of the cutout)  in the New image. This is too sharp to be a real source and most likely a cosmic ray that was not flagged during the Reference images creation.\",\n",
    "  \"interest_score\": \"No interest\"\n",
    "}\n",
    "\n",
    "## DESCRIPTION INDEX 8:\n",
    "desc5= {\n",
    "  \"class\": \"Bogus\",\n",
    "  \"explanation\": \"No source seems to be present in the New image. In the Reference image, the source appears as a negative circular object, and therefore this cannot be real. It is most likely a lump of dead pixels that have gone unflagged during the reference image creation.\",\n",
    "  \"interest_score\": \"No interest\"\n",
    "}\n",
    "\n",
    "## DESCRIPTION INDEX 48:\n",
    "desc6 = {\n",
    "  \"class\": \"Bogus\",\n",
    "  \"explanation\": \"There is a really faint source in the New image. The Reference image has an elongated source that is likely not a real source. A negative elongated source appears in the Difference image, confirming this is not a real source.\",\n",
    "  \"interest_score\": \"No interest\"\n",
    "}\n",
    "\n",
    "## DESCRIPTION INDEX 77:\n",
    "desc7 = {\n",
    "  \"class\": \"Bogus\",\n",
    "  \"explanation\": \"In both the New and Reference images, there is the same central source (and a bunch of other sources around). However, in the Difference image, there are clear Yin-Yang patterns, suggesting that the reason why the source is suspected to be a transient is only due to misalignment.\",\n",
    "  \"interest_score\": \"No interest\"\n",
    "}\n",
    "\n",
    "## DESCRIPTION INDEX 1179:\n",
    "desc8 = {\n",
    "  \"class\": \"Real\",\n",
    "  \"explanation\": \"The source is present at the same location in all three images. The Difference image shows a positive residual signifying that the source is likely a variable star and it has brightened.\",\n",
    "  \"interest_score\": \"Low interest\"\n",
    "}\n",
    "\n",
    "## DESCRIPTION INDEX 1180:\n",
    "desc9 = {\n",
    "  \"class\": \"Real\",\n",
    "  \"explanation\": \"The source is present at the same location in all three images. The Difference image shows a negative residual, signifying that the source is likely a variable star that has dimmed.\",\n",
    "  \"interest_score\": \"Low interest\"\n",
    "}\n",
    "\n",
    "## DESCRIPTION INDEX 1181:\n",
    "desc10 = {\n",
    "  \"class\": \"Real\",\n",
    "  \"explanation\": \"In the New image there is no source at the center of the cutout. The Reference image however presents a good circular source at its center. This leaves a negative, point-source-like object in the Difference image, as expected from a transient that disappeared.\",\n",
    "  \"interest_score\": \"High interest\"\n",
    "}\n",
    "\n",
    "## DESCRIPTION INDEX 1191:\n",
    "desc11 = {\n",
    "  \"class\": \"Real\",\n",
    "  \"explanation\": \"There is a bright circular source in the center of the New image. No source can be seen at the same central location in the Reference image. The Difference image has a positive circular source as expected from a real (explosive) transient.\",\n",
    "  \"interest_score\": \"High interest\"\n",
    "}\n",
    "\n",
    "## DESCRIPTION INDEX 1193:\n",
    "desc12 = {\n",
    "  \"class\": \"Real\",\n",
    "  \"explanation\": \"The source is present at the same location in all three images. The Difference image shows a positive residual signifying that the source is likely a variable star and it has brightened. The cutouts also show a cosmic ray on the left of the source, however, the central source is a good transient, and we can disregard the artefact.\",\n",
    "  \"interest_score\": \"Low interest\"\n",
    "}\n",
    "\n",
    "## DESCRIPTION INDEX 592:\n",
    "desc13 = {\n",
    "  \"class\": \"Bogus\",\n",
    "  \"explanation\": \"A diffused source is at the centre of the New image, aligned with the 45-degree diffraction spike of a bright source at the cutout corner. The Reference image also shows a similar diffraction spike and blob. The Difference image displays a positive blob, which is a bogus source caused by the diffraction spike. Diffraction spikes can sometimes appear with blobs or irregularities instead of straight lines.\",\n",
    "  \"interest_score\": \"No interest\"\n",
    "}\n",
    "\n",
    "## DESCRIPTION INDEX 685:\n",
    "desc14 = {\n",
    "  \"class\": \"Bogus\",\n",
    "  \"explanation\": \"There is no source at the centre of the New image. The Reference image shows a faint positive trail cutting diagonally across the image with a circular source at its centre. This is likely an artefact caused by a faint blinking object such as an airplane or satellite. The Difference image displays both the trail and a negative blob, confirming a bogus source of non-astronomical origin.\",\n",
    "  \"interest_score\": \"No interest\"\n",
    "}\n",
    "\n",
    "descriptions = [str(desc1), str(desc2), str(desc3), str(desc4), str(desc5), str(desc6),str(desc7), str(desc8), str(desc9), str(desc10), str(desc11), str(desc12), str(desc13), str(desc14)]\n",
    "\n",
    "### Write the examples used in a readable format to be saved as a txt file for tracebility\n",
    "example_description = list(zip([\"DESCRIPTION INDEX: \" + str(x) for x in sample_indexes], descriptions))"
   ]
  },
  {
   "cell_type": "code",
   "execution_count": 9,
   "metadata": {},
   "outputs": [],
   "source": [
    "# Report 7 Real and 7 Bogus examples for the dynamic prompt\n",
    "EXAMPLES = [\"<EXAMPLES>\\n\"]\n",
    "for i in range(len(sample_indexes)):\n",
    "    \n",
    "    str_EX = f\"\"\"Example {i+1}:\n",
    "    \"\"\"\n",
    "    all_list = create_ex(sample_indexes[i], True)\n",
    "    all_list.insert(0, str_EX)\n",
    "    all_list.append(descriptions[i])\n",
    "    \n",
    "    for k in all_list:\n",
    "        EXAMPLES.append(k)\n",
    "EXAMPLES.append(\"\\n</EXAMPLES>\\n\")"
   ]
  },
  {
   "cell_type": "markdown",
   "metadata": {},
   "source": [
    "# 3. Running the batch run\n",
    "\n",
    "After creating the system instructions and the prompt for each example, we will first create the experiment variables for tracebility and then initiate the batch process with the function ```build_run_batch``` function from ```helper_functions.py```\n",
    "\n",
    "```build_run_batch``` does the following:\n",
    "1. Constructs input and output table names based on the project ID and formatted datetime.\n",
    "2. Defines the table schema with 'request' (JSON) and 'index_no' (INTEGER) fields.\n",
    "3. Creates the input table in BigQuery if it doesn't exist.\n",
    "4. For index item in the batch_index:\n",
    "    - Constructs a dynamic prompt using the provided examples and the current index.\n",
    "    - Creates a batch data dataframe using the static prompt, dynamic prompt, and specified parameters.\n",
    "    - Uploads the dataframe to a GCS bucket\n",
    "    - Creates a Big query table using the data stored in GCS bucket. \n",
    "5. Generates a request.json file for batch processing.\n",
    "6. Sends the batch prediction job to the specified project.\n",
    "7. Waits until the batch prediction job concludes.\n",
    "8. Generate a Big Query table that processes the ```BatchPredictionJob```\n",
    "9. Download the table and exports as a pandas dataframe\n"
   ]
  },
  {
   "cell_type": "code",
   "execution_count": 10,
   "metadata": {},
   "outputs": [
    {
     "name": "stdout",
     "output_type": "stream",
     "text": [
      "Associating projects/355771430623/locations/us-central1/metadataStores/default/contexts/supernovadetection-run202503202225 to Experiment: supernovadetection\n"
     ]
    },
    {
     "data": {
      "text/html": [
       "\n",
       "        \n",
       "    <link rel=\"stylesheet\" href=\"https://fonts.googleapis.com/icon?family=Material+Icons\">\n",
       "    <style>\n",
       "      .view-vertex-resource,\n",
       "      .view-vertex-resource:hover,\n",
       "      .view-vertex-resource:visited {\n",
       "        position: relative;\n",
       "        display: inline-flex;\n",
       "        flex-direction: row;\n",
       "        height: 32px;\n",
       "        padding: 0 12px;\n",
       "          margin: 4px 18px;\n",
       "        gap: 4px;\n",
       "        border-radius: 4px;\n",
       "\n",
       "        align-items: center;\n",
       "        justify-content: center;\n",
       "        background-color: rgb(255, 255, 255);\n",
       "        color: rgb(51, 103, 214);\n",
       "\n",
       "        font-family: Roboto,\"Helvetica Neue\",sans-serif;\n",
       "        font-size: 13px;\n",
       "        font-weight: 500;\n",
       "        text-transform: uppercase;\n",
       "        text-decoration: none !important;\n",
       "\n",
       "        transition: box-shadow 280ms cubic-bezier(0.4, 0, 0.2, 1) 0s;\n",
       "        box-shadow: 0px 3px 1px -2px rgba(0,0,0,0.2), 0px 2px 2px 0px rgba(0,0,0,0.14), 0px 1px 5px 0px rgba(0,0,0,0.12);\n",
       "      }\n",
       "      .view-vertex-resource:active {\n",
       "        box-shadow: 0px 5px 5px -3px rgba(0,0,0,0.2),0px 8px 10px 1px rgba(0,0,0,0.14),0px 3px 14px 2px rgba(0,0,0,0.12);\n",
       "      }\n",
       "      .view-vertex-resource:active .view-vertex-ripple::before {\n",
       "        position: absolute;\n",
       "        top: 0;\n",
       "        bottom: 0;\n",
       "        left: 0;\n",
       "        right: 0;\n",
       "        border-radius: 4px;\n",
       "        pointer-events: none;\n",
       "\n",
       "        content: '';\n",
       "        background-color: rgb(51, 103, 214);\n",
       "        opacity: 0.12;\n",
       "      }\n",
       "      .view-vertex-icon {\n",
       "        font-size: 18px;\n",
       "      }\n",
       "    </style>\n",
       "  \n",
       "        <a class=\"view-vertex-resource\" id=\"view-vertex-resource-2bc8ae13-fd54-47fc-9baf-a655352818d0\" href=\"#view-view-vertex-resource-2bc8ae13-fd54-47fc-9baf-a655352818d0\">\n",
       "          <span class=\"material-icons view-vertex-icon\">science</span>\n",
       "          <span>View Experiment Run</span>\n",
       "        </a>\n",
       "        \n",
       "        <script>\n",
       "          (function () {\n",
       "            const link = document.getElementById('view-vertex-resource-2bc8ae13-fd54-47fc-9baf-a655352818d0');\n",
       "            link.addEventListener('click', (e) => {\n",
       "              if (window.google?.colab?.openUrl) {\n",
       "                window.google.colab.openUrl('https://console.cloud.google.com/vertex-ai/experiments/locations/us-central1/experiments/supernovadetection/runs/supernovadetection-run202503202225?project=turan-genai-bb');\n",
       "              } else {\n",
       "                window.open('https://console.cloud.google.com/vertex-ai/experiments/locations/us-central1/experiments/supernovadetection/runs/supernovadetection-run202503202225?project=turan-genai-bb', '_blank');\n",
       "              }\n",
       "              e.stopPropagation();\n",
       "              e.preventDefault();\n",
       "            });\n",
       "          })();\n",
       "        </script>\n",
       "    "
      ],
      "text/plain": [
       "<IPython.core.display.HTML object>"
      ]
     },
     "metadata": {},
     "output_type": "display_data"
    }
   ],
   "source": [
    "# Start logging the experiment\n",
    "\n",
    "## Prepare the variables\n",
    "timestamp = datetime.datetime.now()\n",
    "formatted_datetime = timestamp.strftime('%Y%m%d%H%M')\n",
    "\n",
    "## Log the experiments variables\n",
    "### Create the run name with timestamp\n",
    "run_name = \"run\" + formatted_datetime\n",
    "DESCRIPTION = \"\"\"This is the final run to be pushed to the repo highlighting reproducibility\"\"\" # @param {type:\"string\"}\n",
    "MODEL = \"gemini-1.5-pro-002\" # @param [gemini-1.5-pro-001\", \"gemini-1.5-flash-001\", \"gemini-1.0-pro-002\"]\n",
    "TEMPERATURE = .8 # @param {type:\"slider\", min:0, max:2, step:0.1}\n",
    "TOP_P = 1 # @param {type:\"slider\", min:0, max:1, step:0.05}\n",
    "PROMPT_FILE = save_prompt(stat_prompt + '\\n'.join([a + \"\\n\" + b + \"\\n\" for (a,b) in example_description]), run_name)\n",
    "\n",
    "# Build the experimentation variables\n",
    "exp_vars = build_experiment_vars(description=DESCRIPTION,prompt=PROMPT_FILE, model=MODEL, temperature=TEMPERATURE, top_p=TOP_P)\n",
    "# # Start the run\n",
    "aiplatform.start_run(run_name)\n",
    "# # Log the experiment variables\n",
    "aiplatform.log_params(exp_vars)"
   ]
  },
  {
   "cell_type": "code",
   "execution_count": 11,
   "metadata": {},
   "outputs": [
    {
     "name": "stdout",
     "output_type": "stream",
     "text": [
      "Error processing index 2280: cannot identify image file <_io.BytesIO object at 0x7b1662be0b80>\n",
      "Skipping this index and continuing with the next.\n",
      "BatchPredictionJob projects/355771430623/locations/us-central1/batchPredictionJobs/8186031761495425024 current state:\n",
      "3\n",
      "BatchPredictionJob projects/355771430623/locations/us-central1/batchPredictionJobs/8186031761495425024 current state:\n",
      "3\n",
      "BatchPredictionJob projects/355771430623/locations/us-central1/batchPredictionJobs/8186031761495425024 current state:\n",
      "3\n",
      "BatchPredictionJob projects/355771430623/locations/us-central1/batchPredictionJobs/8186031761495425024 current state:\n",
      "3\n",
      "BatchPredictionJob projects/355771430623/locations/us-central1/batchPredictionJobs/8186031761495425024 current state:\n",
      "3\n",
      "BatchPredictionJob projects/355771430623/locations/us-central1/batchPredictionJobs/8186031761495425024 current state:\n",
      "3\n",
      "BatchPredictionJob projects/355771430623/locations/us-central1/batchPredictionJobs/8186031761495425024 current state:\n",
      "3\n",
      "BatchPredictionJob projects/355771430623/locations/us-central1/batchPredictionJobs/8186031761495425024 current state:\n",
      "3\n",
      "BatchPredictionJob projects/355771430623/locations/us-central1/batchPredictionJobs/8186031761495425024 current state:\n",
      "4\n",
      "BatchPredictionJob run completed. Resource name: projects/355771430623/locations/us-central1/batchPredictionJobs/8186031761495425024\n"
     ]
    }
   ],
   "source": [
    "# Build and then the batch run requests\n",
    "pred_df = build_run_batch(bq_client, list(set(batch_index)-set(sample_indexes)), labels_ref, PROJECT_ID, DATASET_ID, run_name, MODEL, stat_prompt, EXAMPLES, TEMPERATURE, TOP_P)"
   ]
  },
  {
   "cell_type": "markdown",
   "metadata": {},
   "source": [
    "# 4. Analyze the results and conclude the experiment\n",
    "\n",
    "Once the batch run is completed the results are stored in pred_df dataframe. We will next evaluate the performance of the binary classification model by generating a confusion matrix and calculating key performance metrics.\n",
    "\n",
    "The evaluation will be conducted via:\n",
    "\n",
    "1.  **Visualize Model Performance:** Create and display a confusion matrix to visually represent the model's performance in classifying instances into two categories (likely \"Real\" and \"Bogus\").\n",
    "2.  **Calculate Performance Metrics:** Compute essential performance metrics (Accuracy, Precision, and Recall) based on the confusion matrix.\n",
    "\n",
    "Finally we will conclude the code by logging the metrics and ending the experiment run.\n"
   ]
  },
  {
   "cell_type": "code",
   "execution_count": 12,
   "metadata": {},
   "outputs": [
    {
     "data": {
      "text/plain": [
       "<Figure size 640x480 with 0 Axes>"
      ]
     },
     "metadata": {},
     "output_type": "display_data"
    },
    {
     "data": {
      "image/png": "[encoded data removed]",
      "text/plain": [
       "<Figure size 640x480 with 2 Axes>"
      ]
     },
     "metadata": {},
     "output_type": "display_data"
    },
    {
     "name": "stdout",
     "output_type": "stream",
     "text": [
      "Accuracy is 0.9405286343612335\n",
      "Precision is 0.9174193548387096\n",
      "Recall is 0.9588671611598112\n"
     ]
    }
   ],
   "source": [
    "# Generate the confusion matrix for the results\n",
    "plt.clf()\n",
    "# Adding this line to make sure that the ground truth data is reflected correctly in the pred_df dataframe\n",
    "pred_df = pd.merge(pred_df, labels_df[['index_no', 'label']], on='index_no', how='left')\n",
    "pred_cleaned = pred_df[(pred_df.predicted == \"Real\") | (pred_df.predicted == \"Bogus\")]\n",
    "cm = confusion_matrix(pred_cleaned.label, pred_cleaned.predicted)\n",
    "disp = ConfusionMatrixDisplay(confusion_matrix=cm)\n",
    "disp.plot()\n",
    "plt.show()\n",
    "# Calculate TP, TN, FP, FN\n",
    "TP = cm[0][0]\n",
    "TN = cm[1][1]\n",
    "FP = cm[0][1]\n",
    "FN = cm[1][0]\n",
    "# Print the metrics\n",
    "print(f\"Accuracy is {(TN+TP)/(TN+TP+FP+FN)}\")\n",
    "print(f\"Precision is {TP/(TP+FP)}\")\n",
    "print(f\"Recall is {TP/(TP+FN)}\")\n",
    "\n",
    "#Save the data frame for reproducibility \n",
    "pred_df.to_csv(\"data/predictions_results.csv\", mode=\"x\")"
   ]
  },
  {
   "cell_type": "code",
   "execution_count": 13,
   "metadata": {},
   "outputs": [],
   "source": [
    "# Log the KPI and conclude the experiment\n",
    "aiplatform.log_metrics(build_experiment_vars(accuracy=(TN+TP)/(TN+TP+FP+FN), precision=TP/(TP+FP), recall=TP/(TP+FN)))\n",
    "aiplatform.end_run()"
   ]
  },
  {
   "cell_type": "markdown",
   "metadata": {},
   "source": [
    "# Cleaning up\n",
    "\n",
    "In this exercise we showed how to use Gemini models to distinguish between real astrophysical signals (e.g., explosive events, variable stars) and bogus imaging artifacts. This is the first demonstration of a successful application of an LLM to imaging data from optical transient surveys. \n",
    "\n",
    "In this part we will be cleaning after resources used above."
   ]
  },
  {
   "cell_type": "code",
   "execution_count": 14,
   "metadata": {},
   "outputs": [],
   "source": [
    "# Clean up the resources. \n",
    "\n",
    "# Delete the BigQeury Tables\n",
    "bq_client.delete_table(labels_ref)\n",
    "bq_client.delete_table(f\"{PROJECT_ID}.{DATASET_ID}.{run_name}\")"
   ]
  }
 ],
 "metadata": {
  "kernelspec": {
   "display_name": ".venv",
   "language": "python",
   "name": "python3"
  },
  "language_info": {
   "codemirror_mode": {
    "name": "ipython",
    "version": 3
   },
   "file_extension": ".py",
   "mimetype": "text/x-python",
   "name": "python",
   "nbconvert_exporter": "python",
   "pygments_lexer": "ipython3",
   "version": "3.12.3"
  }
 },
 "nbformat": 4,
 "nbformat_minor": 2
}
