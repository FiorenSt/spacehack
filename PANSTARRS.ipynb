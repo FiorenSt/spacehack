{
 "cells": [
  {
   "cell_type": "code",
   "execution_count": 1,
   "metadata": {
    "metadata": {}
   },
   "outputs": [],
   "source": [
    "# Copyright 2024 Google LLC\n",
    "#\n",
    "# Licensed under the Apache License, Version 2.0 (the \"License\");\n",
    "# you may not use this file except in compliance with the License.\n",
    "# You may obtain a copy of the License at\n",
    "#\n",
    "#     https://www.apache.org/licenses/LICENSE-2.0\n",
    "#\n",
    "# Unless required by applicable law or agreed to in writing, software\n",
    "# distributed under the License is distributed on an \"AS IS\" BASIS,\n",
    "# WITHOUT WARRANTIES OR CONDITIONS OF ANY KIND, either express or implied.\n",
    "# See the License for the specific language governing permissions and\n",
    "# limitations under the License."
   ]
  },
  {
   "cell_type": "markdown",
   "metadata": {},
   "source": [
    "# Next-Generation Astronomical Transient Classification via Large Language Models\n",
    "\n",
    "<table align=\"left\">\n",
    "  <td style=\"text-align: center\">\n",
    "    <a href=\"https://colab.research.google.com/github/turanbulmus/spacehack/blob/main/01%20-%20Prompt%20Engineering.ipynb\">\n",
    "      <img src=\"https://cloud.google.com/ml-engine/images/colab-logo-32px.png\" alt=\"Google Colaboratory logo\"><br> Open in Colab\n",
    "    </a>\n",
    "  </td>\n",
    "  <td style=\"text-align: center\">\n",
    "    <a href=\"https://console.cloud.google.com/vertex-ai/colab/import/https:%2F%2Fraw.githubusercontent.com%2Fturanbulmus%2Fspacehack%2Fmain%2F01%20-%20Prompt%20Engineering.ipynb\">\n",
    "      <img width=\"32px\" src=\"https://lh3.googleusercontent.com/JmcxdQi-qOpctIvWKgPtrzZdJJK-J3sWE1RsfjZNwshCFgE_9fULcNpuXYTilIR2hjwN\" alt=\"Google Cloud Colab Enterprise logo\"><br> Open in Colab Enterprise\n",
    "    </a>\n",
    "  </td>    \n",
    "  <td style=\"text-align: center\">\n",
    "    <a href=\"https://console.cloud.google.com/vertex-ai/workbench/deploy-notebook?download_url=https://raw.githubusercontent.com/turanbulmus/spacekhack/main/01%20-%20Prompt%20Engineering.ipynb\">\n",
    "      <img src=\"https://lh3.googleusercontent.com/UiNooY4LUgW_oTvpsNhPpQzsstV5W8F7rYgxgGBD85cWJoLmrOzhVs_ksK_vgx40SHs7jCqkTkCk=e14-rj-sc0xffffff-h130-w32\" alt=\"Vertex AI logo\"><br> Open in Workbench\n",
    "    </a>\n",
    "  </td>\n",
    "  <td style=\"text-align: center\">\n",
    "    <a href=\"https://github.com/turanbulmus/spacehack/blob/main/01%20-%20Prompt%20Engineering.ipynb\">\n",
    "      <img src=\"https://cloud.google.com/ml-engine/images/github-logo-32px.png\" alt=\"GitHub logo\"><br> View on GitHub\n",
    "    </a>\n",
    "  </td>\n",
    "</table>"
   ]
  },
  {
   "cell_type": "markdown",
   "metadata": {},
   "source": [
    "| Authors |\\\n",
    "| Turan Bulmus | https://github.com/turanbulmus | \\\n",
    "| Fiorenzo Stoppa | https://github.com/FiorenSt |\n"
   ]
  },
  {
   "cell_type": "markdown",
   "metadata": {},
   "source": [
    "### Set Google Cloud environment variables information and initialize Clients\n",
    "\n",
    "Learn more about [setting up a project and a development environment](https://cloud.google.com/vertex-ai/docs/start/cloud-environment).\n",
    "To get started using Vertex AI, you must have an existing Google Cloud project and the following:\n",
    "* [Enable the Vertex AI API](https://console.cloud.google.com/flows/enableapi?apiid=aiplatform.googleapis.com). \n",
    "* [Enable the Big Query API](https://console.cloud.google.com/flows/enableapi?apiid=bigquery.googleapis.com)."
   ]
  },
  {
   "cell_type": "code",
   "execution_count": 2,
   "metadata": {
    "metadata": {}
   },
   "outputs": [
    {
     "name": "stderr",
     "output_type": "stream",
     "text": [
      "/home/user/spacehack/.venv/lib/python3.12/site-packages/google/auth/_default.py:76: UserWarning: Your application has authenticated using end user credentials from Google Cloud SDK without a quota project. You might receive a \"quota exceeded\" or \"API not enabled\" error. See the following page for troubleshooting: https://cloud.google.com/docs/authentication/adc-troubleshooting/user-creds. \n",
      "  warnings.warn(_CLOUD_SDK_CREDENTIALS_WARNING)\n"
     ]
    },
    {
     "data": {
      "text/html": [
       "\n",
       "        \n",
       "    <link rel=\"stylesheet\" href=\"https://fonts.googleapis.com/icon?family=Material+Icons\">\n",
       "    <style>\n",
       "      .view-vertex-resource,\n",
       "      .view-vertex-resource:hover,\n",
       "      .view-vertex-resource:visited {\n",
       "        position: relative;\n",
       "        display: inline-flex;\n",
       "        flex-direction: row;\n",
       "        height: 32px;\n",
       "        padding: 0 12px;\n",
       "          margin: 4px 18px;\n",
       "        gap: 4px;\n",
       "        border-radius: 4px;\n",
       "\n",
       "        align-items: center;\n",
       "        justify-content: center;\n",
       "        background-color: rgb(255, 255, 255);\n",
       "        color: rgb(51, 103, 214);\n",
       "\n",
       "        font-family: Roboto,\"Helvetica Neue\",sans-serif;\n",
       "        font-size: 13px;\n",
       "        font-weight: 500;\n",
       "        text-transform: uppercase;\n",
       "        text-decoration: none !important;\n",
       "\n",
       "        transition: box-shadow 280ms cubic-bezier(0.4, 0, 0.2, 1) 0s;\n",
       "        box-shadow: 0px 3px 1px -2px rgba(0,0,0,0.2), 0px 2px 2px 0px rgba(0,0,0,0.14), 0px 1px 5px 0px rgba(0,0,0,0.12);\n",
       "      }\n",
       "      .view-vertex-resource:active {\n",
       "        box-shadow: 0px 5px 5px -3px rgba(0,0,0,0.2),0px 8px 10px 1px rgba(0,0,0,0.14),0px 3px 14px 2px rgba(0,0,0,0.12);\n",
       "      }\n",
       "      .view-vertex-resource:active .view-vertex-ripple::before {\n",
       "        position: absolute;\n",
       "        top: 0;\n",
       "        bottom: 0;\n",
       "        left: 0;\n",
       "        right: 0;\n",
       "        border-radius: 4px;\n",
       "        pointer-events: none;\n",
       "\n",
       "        content: '';\n",
       "        background-color: rgb(51, 103, 214);\n",
       "        opacity: 0.12;\n",
       "      }\n",
       "      .view-vertex-icon {\n",
       "        font-size: 18px;\n",
       "      }\n",
       "    </style>\n",
       "  \n",
       "        <a class=\"view-vertex-resource\" id=\"view-vertex-resource-bd61bdc6-10ec-4003-ac39-78ceb2282b55\" href=\"#view-view-vertex-resource-bd61bdc6-10ec-4003-ac39-78ceb2282b55\">\n",
       "          <span class=\"material-icons view-vertex-icon\">science</span>\n",
       "          <span>View Experiment</span>\n",
       "        </a>\n",
       "        \n",
       "        <script>\n",
       "          (function () {\n",
       "            const link = document.getElementById('view-vertex-resource-bd61bdc6-10ec-4003-ac39-78ceb2282b55');\n",
       "            link.addEventListener('click', (e) => {\n",
       "              if (window.google?.colab?.openUrl) {\n",
       "                window.google.colab.openUrl('https://console.cloud.google.com/vertex-ai/experiments/locations/us-central1/experiments/supernovadetection/runs?project=turan-genai-bb');\n",
       "              } else {\n",
       "                window.open('https://console.cloud.google.com/vertex-ai/experiments/locations/us-central1/experiments/supernovadetection/runs?project=turan-genai-bb', '_blank');\n",
       "              }\n",
       "              e.stopPropagation();\n",
       "              e.preventDefault();\n",
       "            });\n",
       "          })();\n",
       "        </script>\n",
       "    "
      ],
      "text/plain": [
       "<IPython.core.display.HTML object>"
      ]
     },
     "metadata": {},
     "output_type": "display_data"
    },
    {
     "name": "stderr",
     "output_type": "stream",
     "text": [
      "/home/user/spacehack/.venv/lib/python3.12/site-packages/google/auth/_default.py:76: UserWarning: Your application has authenticated using end user credentials from Google Cloud SDK without a quota project. You might receive a \"quota exceeded\" or \"API not enabled\" error. See the following page for troubleshooting: https://cloud.google.com/docs/authentication/adc-troubleshooting/user-creds. \n",
      "  warnings.warn(_CLOUD_SDK_CREDENTIALS_WARNING)\n"
     ]
    }
   ],
   "source": [
    "PROJECT_ID = \"turan-genai-bb\"  # @param {type:\"string\"}\n",
    "LOCATION = \"us-central1\"  # @param {type:\"string\"}\n",
    "EXPERIMENT_NAME = \"supernovadetection\" # @param {type:\"string\"}\n",
    "# Make sure that dataset is created in Big Query\n",
    "DATASET_ID = \"spacehack\" # @param {type:\"string\"}\n",
    "import vertexai\n",
    "from google.cloud import bigquery\n",
    "\n",
    "\n",
    "vertexai.init(project=PROJECT_ID, location=LOCATION, experiment=EXPERIMENT_NAME)\n",
    "bq_client = bigquery.Client(project=PROJECT_ID)"
   ]
  },
  {
   "cell_type": "markdown",
   "metadata": {},
   "source": [
    "## Import libraries and define helper functions"
   ]
  },
  {
   "cell_type": "code",
   "execution_count": 3,
   "metadata": {
    "metadata": {}
   },
   "outputs": [],
   "source": [
    "import gdown \n",
    "import base64\n",
    "import json\n",
    "import random, os\n",
    "import time, datetime\n",
    "from pathlib import Path\n",
    "\n",
    "import pandas as pd\n",
    "import numpy as np\n",
    "from matplotlib import pyplot as plt\n",
    "from sklearn.metrics import confusion_matrix, ConfusionMatrixDisplay\n",
    "\n",
    "from vertexai.generative_models import GenerativeModel, Part, FinishReason, Image\n",
    "from google.cloud import bigquery\n",
    "import google.cloud.aiplatform as aiplatform\n",
    "\n",
    "from helper_functions import build_run_batch, if_tbl_exists, create_ex, save_picture, save_prompt, build_experiment_vars"
   ]
  },
  {
   "cell_type": "code",
   "execution_count": 4,
   "metadata": {
    "metadata": {}
   },
   "outputs": [],
   "source": [
    "PERSONA = \"\"\"<PERSONA>\n",
    "You are an experienced astrophysicist, and your task is to classify astronomical transients into Real or Bogus based on a given set of 3 images. You have seen thousands of astronomical images during your lifetime and you are very good at making this classification by looking at the images and following the instructions.\n",
    "</PERSONA>\"\"\"\n",
    "\n",
    "TASK = \"\"\"<TASK>\n",
    "Your task is to read the INSTRUCTIONS, look at the 3 images (New, Reference and Difference images) and classify if the source at the centre of the cutout and inside the red circle is a Real or Bogus astronomical transient. Provide your thought process to explain how you reasoned to provide the response. Respond in json format\n",
    "</TASK>\\n\n",
    "\"\"\"\n",
    "\n",
    "INSTRUCTIONS = \"\"\"\\n<INSTRUCTIONS>\n",
    "**1. Purpose**\n",
    "Help vet astronomical data for the Real/Bogus classification. The goal is for you to use your expertise to distinguish between real and bogus sources. \n",
    "\n",
    "**2. Information Provided**\n",
    "You will be shown three astronomical image cutouts:\n",
    "a) **New Image:** The newest image centered at the location of the suspected transient source. \n",
    "b) **Reference Image:** A reference image from the same telescope of the same part of the sky to be used for comparison. It shows if the source was already there in the past or not.\n",
    "c) **Difference Image:** The residual image after the new and reference images are subtracted. Real sources should appear in this cutout as circular objects with only positive (white pixels) flux. \n",
    "\n",
    "**3. Criteria for Classification**\n",
    "- **Real Source:** \n",
    "  - **Shape:** Circular shape at the center of the cutout with a visual extent of ~5-10 pixels, varying with focus conditions.\n",
    "  - **Brightness:** Positive flux source (white pixels) in the New image. Positive flux source in the Difference image. \n",
    "  - **Presence:** A real source will appear in the New image. This source can either be a supernova on a galaxy or a cataclysmic variable.\n",
    "\n",
    "- **Bogus Source:** \n",
    "  - **Shape:** Non-circular shape (e.g., elongated). This includes irregular shapes, positive or negative, like streaks or lines caused by cosmic-rays, diffraction spikes and cross-talk.\n",
    "  - **Brightness:** Source not present or too faint at the center of the cutout. The source at the center can never be negative in the Difference image.\n",
    "\n",
    "**4. Additional Guidance** \n",
    "- **Contextual Information:** Focus on the source at the center of the cutouts inside the red circle, but consider nearby sources to diagnose potential problems.  \n",
    "- **Examples:** Refer to provided visual examples of real and bogus sources to aid in identification. \n",
    "- **Judgment Criteria:** For ambiguous cases or borderline scenarios, consider the overall context and consistency with known characteristics of real and bogus sources.\n",
    "</INSTRUCTIONS>\"\"\"\n",
    "\n",
    "\n",
    "METHOD = \"\"\"<METHOD>\n",
    "1. **Focus on the Red Circle**: Start by examining the source located at the center of the cutout and inside the red circle. The images are prepared so that the source of interest is clearly marked for you to analyze.\n",
    "\n",
    "2. **Analyze Each Image Individually**:\n",
    "   - **New Image**: Check for the presence, shape, and brightness of the source in the New image.\n",
    "   - **Reference Image**: Compare the source's properties in the Reference image to those in the New image.\n",
    "   - **Difference Image**: Observe the residuals that result from subtracting the reference image from the New image. Look for patterns (circular, positive flux) that match characteristics of Real sources.\n",
    "\n",
    "3. **Evaluate Features**:\n",
    "   - Examine the shape, brightness, and other relevant features (e.g., artifacts, misalignments) of the source in each image.\n",
    "   - Determine if these features are consistent with a Real or Bogus classification based on the criteria provided in the instructions.\n",
    "\n",
    "4. **Consider Relationships Between Images**:\n",
    "   - Compare the New, Reference, and difference images to understand any changes in the source over time.\n",
    "   - Look for discrepancies or confirmations that might support or contradict a particular classification.\n",
    "\n",
    "5. **Employ a Chain-of-Thought Reasoning**:\n",
    "   - Clearly outline each observation you make and explain how it contributes to your decision-making process.\n",
    "   - If you find any contradictions or ambiguous features, acknowledge them and provide reasoning for your final decision.\n",
    "\n",
    "6. **Assign an Interest Score**:\n",
    "   - After determining if the source is Real or Bogus, assign an appropriate interest score:\n",
    "     - 'No interest' for Bogus sources.\n",
    "     - 'Low interest' for cataclysmic transients.\n",
    "     - 'High interest' for explosive transients.\n",
    "\n",
    "7. **Prepare the Final Output in JSON Format**:\n",
    "   - Format your response as a JSON object containing:\n",
    "     - The classification ('Real' or 'Bogus').\n",
    "     - An explanation detailing your thought process and observations.\n",
    "     - The assigned interest score.\n",
    "\n",
    "8. **Example Output**:\n",
    "   - Refer to the provided examples to see the expected format and detail level of your response.\n",
    "</METHOD>\n",
    "\"\"\"\n",
    "\n",
    "# Collapse the System Instructions into a single variable\n",
    "stat_prompt = PERSONA + TASK + INSTRUCTIONS + METHOD\n"
   ]
  },
  {
   "cell_type": "code",
   "execution_count": 5,
   "metadata": {
    "metadata": {}
   },
   "outputs": [],
   "source": [
    "import pandas as pd\n",
    "import numpy as np\n",
    "import os\n",
    "\n",
    "# Load the dataset\n",
    "file_path_data = '/home/user/spacehack/PANSTARRS_dataset/PANSTARRS_images.npy'\n",
    "file_path_labels_csv = '/home/user/spacehack/PANSTARRS_dataset/PANSTARRS_labels.csv'\n",
    "\n",
    "triplets = np.load(file_path_data)\n",
    "\n",
    "# Load labels from CSV file\n",
    "labels_df = pd.read_csv(file_path_labels_csv)\n",
    "\n",
    "# Upload Labels to BigQuery\n",
    "labels_id = \"PANSTARRS_labels_df\"\n",
    "labels_ref = bq_client.dataset(DATASET_ID).table(labels_id)\n",
    "create_table_flag = if_tbl_exists(bq_client, labels_ref)\n",
    "\n",
    "if create_table_flag != True:\n",
    "    bq_client.load_table_from_dataframe(labels_df, labels_ref)\n",
    "\n",
    "# Sample indexes for saving pictures\n",
    "sample_indexes = [0, 1, 2, 3, 4, 6, 8, 1001, 1003, 1004, 1006, 1008, 1010, 1374, 1665]\n",
    "\n",
    "# Load train data directly from the dataset already loaded\n",
    "train_data = triplets  # No need to download or reload; reuse the loaded data\n",
    "\n",
    "# Save pictures for sample indexes\n",
    "for i in sample_indexes:\n",
    "    save_picture(train_data, i, True)\n",
    "\n",
    "# Handle dynamic part of the prompt and save pictures\n",
    "batch_index = np.where(~np.isnan(triplets).any(axis=(1, 2, 3)))[0]  # remove corrupt data\n",
    "for t in batch_index:\n",
    "    save_picture(triplets, t, False)"
   ]
  },
  {
   "cell_type": "code",
   "execution_count": 6,
   "metadata": {
    "metadata": {}
   },
   "outputs": [],
   "source": [
    "## DESCRIPTION INDEX 0:\n",
    "desc1 = {\n",
    "  \"class\": \"Real\",\n",
    "  \"explanation\": \"The New image shows a really faint circular source at the center. The Reference image does not show a source in the same location, but a galaxy is present slighly off centre. The Difference image shows a faint positive residual, indicating a real explosive transient (likely a supernova).\",\n",
    "  \"interest_score\": \"High interest\"\n",
    "}\n",
    "\n",
    "\n",
    "## DESCRIPTION INDEX 1:\n",
    "desc2 = {\n",
    "  \"class\": \"Real\",\n",
    "  \"explanation\": \"The New image shows a bright source at the center. The Reference image does not show a source in the centre, however a clear diffuse galaxy is present in the bottom left corner. The Difference image has a clear positive residual suggesting the source is a real supernova.\",\n",
    "  \"interest_score\": \"High interest\"\n",
    "}\n",
    "\n",
    "\n",
    "## DESCRIPTION INDEX 2:\n",
    "desc3 = {\n",
    "  \"class\": \"Real\",\n",
    "  \"explanation\": \"The New image shows a source at the center of the cutout, close to the edge of the detector chip. The Reference image shows no source in the same location, but a really close by galaxy is visible. The Difference image has a positive residual, indicating the source is a supernova.\",\n",
    "  \"interest_score\": \"High interest\"\n",
    "}\n",
    "\n",
    "\n",
    "\n",
    "## DESCRIPTION INDEX 3:\n",
    "desc4 = {\n",
    "  \"class\": \"Real\",\n",
    "  \"explanation\": \"The New image shows a bright circular source at the center, lying on top of a diffuse galaxy. The Reference image shows the same galaxy, but not the source in the same location as the New image. The Difference image displays a positive circular residual at the centre, this is likely a supernova.\",\n",
    "  \"interest_score\": \"High interest\"\n",
    "}\n",
    "\n",
    "\n",
    "\n",
    "## DESCRIPTION INDEX 4\n",
    "desc5 = {\n",
    "  \"class\": \"Real\",\n",
    "  \"explanation\": \"The New image shows a bright source possibly on top of a diffuse source, this could either be a new transient or the bulge of the galaxy. The Reference image shows a big diffuse galaxy, no source is easily identifiable on top of it. The Difference image displays a clear positive residual at the centre, confirming this is a supernova on a galaxy.\",\n",
    "  \"interest_score\": \"High interest\"\n",
    "}\n",
    "\n",
    "\n",
    "\n",
    "## DESCRIPTION INDEX 6\n",
    "desc6 = {\n",
    "  \"class\": \"Real\",\n",
    "  \"explanation\": \"The New image shows a bright source at the centre, close to a small galaxy. The Reference image shows no source at the centre, but the same galaxy as in the New image. The Difference has a positive residual source at the centre confirming this is a supernova on a galaxy. There are some differrencing problems manifesting as black and white sources, but the central source is not affected.\",\n",
    "  \"interest_score\": \"High interest\"\n",
    "}\n",
    "\n",
    "\n",
    "\n",
    "## DESCRIPTION INDEX 8:\n",
    "desc7 = {\n",
    "  \"class\": \"Real\",\n",
    "  \"explanation\": \"The New image shows a really faint source at the centre; a really bright galaxy is visible on the left of the source. The Reference image shows no source at the same central location. The Difference image shows a faint but positive residual source, this is likely a supernova.\",\n",
    "  \"interest_score\": \"High interest\"\n",
    "}\n",
    "\n",
    "\n",
    "\n",
    "\n",
    "## DESCRIPTION INDEX 1001:\n",
    "desc8= {\n",
    "  \"class\": \"Bogus\",\n",
    "   \"explanation\": \"The New image does not show any clear source at the center. The Reference image also does not show any source in the same location. The Difference confirms this is not a real transient, but a bogus due to either the vicinity of the chip edge or random noise.\",\n",
    "  \"interest_score\": \"No interest\"\n",
    "}\n",
    "\n",
    "\n",
    "\n",
    "## DESCRIPTION INDEX 1003:\n",
    "desc9 = {\n",
    "  \"class\": \"Bogus\",\n",
    "  \"explanation\": \"The New image does not show any clear source at the center. No source is visible at the centre of the reference image. In the Difference image no positive residual source is present, this is likely a bogus source.\",\n",
    "  \"interest_score\": \"No interest\"\n",
    "}\n",
    "\n",
    "\n",
    "\n",
    "## DESCRIPTION INDEX 1004:\n",
    "desc10 = {\n",
    "  \"class\": \"Bogus\",\n",
    "  \"explanation\": \"The New image seem shows an irregular diffuse source at the centre of the cutout. In the Reference image, the source is not present. The Difference shows a really diffuse residual, this is a bogus source.\",\n",
    "  \"interest_score\": \"No interest\"\n",
    "}\n",
    "\n",
    "\n",
    "## DESCRIPTION INDEX 1006:\n",
    "desc11= {\n",
    "  \"class\": \"Bogus\",\n",
    "   \"explanation\": \"The New image shows many horizontal positve trails passing through the center of the cutout. The Reference image shows no source at the centre of the cutout. The Difference shows the same faint stripes present in the New image, this is artifacts and not a real source.\",\n",
    "  \"interest_score\": \"No interest\"\n",
    "}\n",
    "\n",
    "\n",
    "## DESCRIPTION INDEX 1008:\n",
    "desc12= {\n",
    "  \"class\": \"Bogus\",\n",
    "   \"explanation\": \"The New image shows a few bright pixels at the center of the cutout and close to the detector edge. The Reference image shows no clear source in the same location. The Difference image has only a few bright pixels at its cente, close to the residuals of the edges. This is a bogus casued by misallignment.\",\n",
    "  \"interest_score\": \"No interest\"\n",
    "}\n",
    "\n",
    "\n",
    "## DESCRIPTION INDEX 1010:\n",
    "desc13= {\n",
    "  \"class\": \"Bogus\",\n",
    "   \"explanation\": \"The New image shows an elongated source at the center, a diffraction spike from the brigh source on the left. The Reference does not show any source at the centre. The difference image shows the same diffraction spike as in the New image at the central location, this is a bogus source.\",\n",
    "  \"interest_score\": \"No interest\"\n",
    "}\n",
    "\n",
    "\n",
    "## DESCRIPTION INDEX 1374:\n",
    "desc14= {\n",
    "  \"class\": \"Bogus\",\n",
    "   \"explanation\": \"The New image shows a faint big source at the center. The Reference does not show any source in the same location. The difference image shows the same faint big source, however its size and the lack of a galaxy close by signifies this is a bogus source.\",\n",
    "  \"interest_score\": \"No interest\"\n",
    "}\n",
    "\n",
    "\n",
    "## DESCRIPTION INDEX 1665:\n",
    "desc15= {\n",
    "  \"class\": \"Bogus\",\n",
    "   \"explanation\": \"The New image shows an irregular source at the center. The Reference does not show any source in the same location. The difference image shows the same faint big source and an additional negative area, this is a bogus source.\",\n",
    "  \"interest_score\": \"No interest\"\n",
    "}\n",
    "\n",
    "\n",
    "\n",
    "\n",
    "descriptions = [str(desc1), str(desc2), str(desc3), str(desc4), str(desc5), str(desc6),str(desc7), str(desc8), str(desc9), str(desc10), str(desc11), str(desc12), str(desc13) , str(desc14) , str(desc15)]\n",
    "\n",
    "### Write the examples used in a readable format to be saved as a txt file for tracebility\n",
    "example_description = list(zip([\"DESCRIPTION INDEX: \" + str(x) for x in sample_indexes], descriptions))"
   ]
  },
  {
   "cell_type": "code",
   "execution_count": 7,
   "metadata": {
    "metadata": {}
   },
   "outputs": [],
   "source": [
    "# Report 15 examples for the dynamic prompt\n",
    "EXAMPLES = [\"<EXAMPLES>\\n\"]\n",
    "for i in range(len(sample_indexes)):\n",
    "    \n",
    "    str_EX = f\"\"\"Example {i+1}:\n",
    "    \"\"\"\n",
    "    all_list = create_ex(sample_indexes[i], True)\n",
    "    all_list.insert(0, str_EX)\n",
    "    all_list.append(descriptions[i])\n",
    "    all\n",
    "    for k in all_list:\n",
    "        EXAMPLES.append(k)\n",
    "EXAMPLES.append(\"\\n</EXAMPLES>\\n\")"
   ]
  },
  {
   "cell_type": "code",
   "execution_count": 8,
   "metadata": {
    "metadata": {}
   },
   "outputs": [
    {
     "name": "stdout",
     "output_type": "stream",
     "text": [
      "Associating projects/355771430623/locations/us-central1/metadataStores/default/contexts/supernovadetection-run202409232312 to Experiment: supernovadetection\n"
     ]
    },
    {
     "data": {
      "text/html": [
       "\n",
       "        \n",
       "    <link rel=\"stylesheet\" href=\"https://fonts.googleapis.com/icon?family=Material+Icons\">\n",
       "    <style>\n",
       "      .view-vertex-resource,\n",
       "      .view-vertex-resource:hover,\n",
       "      .view-vertex-resource:visited {\n",
       "        position: relative;\n",
       "        display: inline-flex;\n",
       "        flex-direction: row;\n",
       "        height: 32px;\n",
       "        padding: 0 12px;\n",
       "          margin: 4px 18px;\n",
       "        gap: 4px;\n",
       "        border-radius: 4px;\n",
       "\n",
       "        align-items: center;\n",
       "        justify-content: center;\n",
       "        background-color: rgb(255, 255, 255);\n",
       "        color: rgb(51, 103, 214);\n",
       "\n",
       "        font-family: Roboto,\"Helvetica Neue\",sans-serif;\n",
       "        font-size: 13px;\n",
       "        font-weight: 500;\n",
       "        text-transform: uppercase;\n",
       "        text-decoration: none !important;\n",
       "\n",
       "        transition: box-shadow 280ms cubic-bezier(0.4, 0, 0.2, 1) 0s;\n",
       "        box-shadow: 0px 3px 1px -2px rgba(0,0,0,0.2), 0px 2px 2px 0px rgba(0,0,0,0.14), 0px 1px 5px 0px rgba(0,0,0,0.12);\n",
       "      }\n",
       "      .view-vertex-resource:active {\n",
       "        box-shadow: 0px 5px 5px -3px rgba(0,0,0,0.2),0px 8px 10px 1px rgba(0,0,0,0.14),0px 3px 14px 2px rgba(0,0,0,0.12);\n",
       "      }\n",
       "      .view-vertex-resource:active .view-vertex-ripple::before {\n",
       "        position: absolute;\n",
       "        top: 0;\n",
       "        bottom: 0;\n",
       "        left: 0;\n",
       "        right: 0;\n",
       "        border-radius: 4px;\n",
       "        pointer-events: none;\n",
       "\n",
       "        content: '';\n",
       "        background-color: rgb(51, 103, 214);\n",
       "        opacity: 0.12;\n",
       "      }\n",
       "      .view-vertex-icon {\n",
       "        font-size: 18px;\n",
       "      }\n",
       "    </style>\n",
       "  \n",
       "        <a class=\"view-vertex-resource\" id=\"view-vertex-resource-6098f4e9-892f-475a-b466-e0f448b040ee\" href=\"#view-view-vertex-resource-6098f4e9-892f-475a-b466-e0f448b040ee\">\n",
       "          <span class=\"material-icons view-vertex-icon\">science</span>\n",
       "          <span>View Experiment Run</span>\n",
       "        </a>\n",
       "        \n",
       "        <script>\n",
       "          (function () {\n",
       "            const link = document.getElementById('view-vertex-resource-6098f4e9-892f-475a-b466-e0f448b040ee');\n",
       "            link.addEventListener('click', (e) => {\n",
       "              if (window.google?.colab?.openUrl) {\n",
       "                window.google.colab.openUrl('https://console.cloud.google.com/vertex-ai/experiments/locations/us-central1/experiments/supernovadetection/runs/supernovadetection-run202409232312?project=turan-genai-bb');\n",
       "              } else {\n",
       "                window.open('https://console.cloud.google.com/vertex-ai/experiments/locations/us-central1/experiments/supernovadetection/runs/supernovadetection-run202409232312?project=turan-genai-bb', '_blank');\n",
       "              }\n",
       "              e.stopPropagation();\n",
       "              e.preventDefault();\n",
       "            });\n",
       "          })();\n",
       "        </script>\n",
       "    "
      ],
      "text/plain": [
       "<IPython.core.display.HTML object>"
      ]
     },
     "metadata": {},
     "output_type": "display_data"
    }
   ],
   "source": [
    "# Start logging the experiment\n",
    "\n",
    "## Prepare the variables\n",
    "timestamp = datetime.datetime.now()\n",
    "formatted_datetime = timestamp.strftime('%Y%m%d%H%M')\n",
    "\n",
    "\n",
    "## Log the experiments variables\n",
    "### Create the run name with timestamp\n",
    "run_name = \"run\" + formatted_datetime\n",
    "DESCRIPTION = \"\"\"Changed the dataset to PANSTARRS.\n",
    "The hyperparameters are: \n",
    "Temperature: .8\n",
    "Top P: 1\n",
    "\"\"\" # @param {type:\"string\"}\n",
    "MODEL = \"gemini-1.5-pro-001\" # @param [gemini-1.5-pro-001\", \"gemini-1.5-flash-001\", \"gemini-1.0-pro-002\"]\n",
    "TEMPERATURE = .8 # @param {type:\"slider\", min:0, max:2, step:0.1}\n",
    "TOP_P = 1 # @param {type:\"slider\", min:0, max:1, step:0.05}\n",
    "PROMPT_FILE = save_prompt(stat_prompt + '\\n'.join([a + \"\\n\" + b + \"\\n\" for (a,b) in example_description]), run_name)\n",
    "\n",
    "# Build the experimentation variables\n",
    "exp_vars = build_experiment_vars(description=DESCRIPTION,prompt=PROMPT_FILE, model=MODEL, temperature=TEMPERATURE, top_p=TOP_P)\n",
    "# Start the run\n",
    "aiplatform.start_run(run_name)\n",
    "# Log the experiment variables\n",
    "aiplatform.log_params(exp_vars)"
   ]
  },
  {
   "cell_type": "code",
   "execution_count": 9,
   "metadata": {
    "metadata": {}
   },
   "outputs": [
    {
     "name": "stdout",
     "output_type": "stream",
     "text": [
      "BatchPredictionJob projects/355771430623/locations/us-central1/batchPredictionJobs/8767456344941789184 current state:\n",
      "1\n",
      "BatchPredictionJob projects/355771430623/locations/us-central1/batchPredictionJobs/8767456344941789184 current state:\n",
      "1\n",
      "BatchPredictionJob projects/355771430623/locations/us-central1/batchPredictionJobs/8767456344941789184 current state:\n",
      "1\n",
      "BatchPredictionJob projects/355771430623/locations/us-central1/batchPredictionJobs/8767456344941789184 current state:\n",
      "1\n",
      "BatchPredictionJob projects/355771430623/locations/us-central1/batchPredictionJobs/8767456344941789184 current state:\n",
      "1\n",
      "BatchPredictionJob projects/355771430623/locations/us-central1/batchPredictionJobs/8767456344941789184 current state:\n",
      "1\n",
      "BatchPredictionJob projects/355771430623/locations/us-central1/batchPredictionJobs/8767456344941789184 current state:\n",
      "1\n",
      "BatchPredictionJob projects/355771430623/locations/us-central1/batchPredictionJobs/8767456344941789184 current state:\n",
      "1\n",
      "BatchPredictionJob projects/355771430623/locations/us-central1/batchPredictionJobs/8767456344941789184 current state:\n",
      "1\n",
      "BatchPredictionJob projects/355771430623/locations/us-central1/batchPredictionJobs/8767456344941789184 current state:\n",
      "4\n",
      "BatchPredictionJob run completed. Resource name: projects/355771430623/locations/us-central1/batchPredictionJobs/8767456344941789184\n"
     ]
    }
   ],
   "source": [
    "# Build and then the batch run requests\n",
    "pred_df = build_run_batch(bq_client, batch_index, labels_ref, PROJECT_ID, DATASET_ID, run_name, MODEL, stat_prompt, EXAMPLES, TEMPERATURE, TOP_P)"
   ]
  },
  {
   "cell_type": "code",
   "execution_count": 10,
   "metadata": {
    "metadata": {}
   },
   "outputs": [
    {
     "data": {
      "text/plain": [
       "<google.cloud.bigquery.table.RowIterator at 0x7871b7086ff0>"
      ]
     },
     "execution_count": 10,
     "metadata": {},
     "output_type": "execute_result"
    }
   ],
   "source": [
    "download_query = f\"\"\"\n",
    "  SELECT index_no, actual, predicted, explanation, interest_score\n",
    "  FROM turan-genai-bb.spacehack.run202409232312\"\"\"\n",
    "bq_client.query_and_wait(download_query)"
   ]
  },
  {
   "cell_type": "code",
   "execution_count": 11,
   "metadata": {
    "metadata": {}
   },
   "outputs": [
    {
     "data": {
      "text/plain": [
       "<Figure size 640x480 with 0 Axes>"
      ]
     },
     "metadata": {},
     "output_type": "display_data"
    },
    {
     "data": {
      "image/png": "[encoded data removed]",
      "text/plain": [
       "<Figure size 640x480 with 2 Axes>"
      ]
     },
     "metadata": {},
     "output_type": "display_data"
    },
    {
     "name": "stdout",
     "output_type": "stream",
     "text": [
      "Accuracy is 0.8858024691358025\n",
      "Precision is 0.9793388429752066\n",
      "Recall is 0.8243478260869566\n"
     ]
    }
   ],
   "source": [
    "# Generate the confusion matrix for the results\n",
    "plt.clf()\n",
    "pred_cleaned = pred_df[(pred_df.predicted == \"Real\") | (pred_df.predicted == \"Bogus\")]\n",
    "cm = confusion_matrix(pred_cleaned.actual, pred_cleaned.predicted)\n",
    "disp = ConfusionMatrixDisplay(confusion_matrix=cm)\n",
    "disp.plot()\n",
    "plt.show()\n",
    "# Calculate TP, TN, FP, FN\n",
    "TP = cm[0][0]\n",
    "TN = cm[1][1]\n",
    "FP = cm[0][1]\n",
    "FN = cm[1][0]\n",
    "# Print the metrics\n",
    "print(f\"Accuracy is {(TN+TP)/(TN+TP+FP+FN)}\")\n",
    "print(f\"Precision is {TP/(TP+FP)}\")\n",
    "print(f\"Recall is {TP/(TP+FN)}\")"
   ]
  },
  {
   "cell_type": "code",
   "execution_count": 12,
   "metadata": {
    "metadata": {}
   },
   "outputs": [],
   "source": [
    "# Log the KPI and conclude the experiment\n",
    "aiplatform.log_metrics(build_experiment_vars(accuracy=(TN+TP)/(TN+TP+FP+FN), precision=TP/(TP+FP), recall=TP/(TP+FN)))\n",
    "aiplatform.end_run()"
   ]
  },
  {
   "cell_type": "code",
   "execution_count": null,
   "metadata": {},
   "outputs": [
    {
     "ename": "",
     "evalue": "",
     "output_type": "error",
     "traceback": [
      "\u001b[1;31mThe kernel died. Error: /home/user/spacehack/.venv/bin/python: No module named ipykernel_launcher... View Jupyter <a href='command:jupyter.viewOutput'>log</a> for further details."
     ]
    }
   ],
   "source": [
    "Accuracy is 0.8862583633556356\n",
    "Precision is 0.9418960244648318\n",
    "Recall is 0.8492647058823529"
   ]
  }
 ],
 "metadata": {
  "kernelspec": {
   "display_name": "spacehack",
   "language": "python",
   "name": "spacehack"
  }
 },
 "nbformat": 4,
 "nbformat_minor": 2
}
